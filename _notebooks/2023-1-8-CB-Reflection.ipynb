{
 "cells": [
  {
   "cell_type": "markdown",
   "metadata": {},
   "source": [
    "---\n",
    "toc: true\n",
    "comments: true\n",
    "layout: post\n",
    "title: CB Reflection\n",
    "description: Reflection of questions that I got wrong on the collegeboard practice MC\n",
    "courses: {compsci: {week: 4}}\n",
    "type: hacks\n",
    "---"
   ]
  },
  {
   "cell_type": "markdown",
   "metadata": {},
   "source": [
    "### Collegeboard MC Reflection: \n",
    "I scored 60/67 on my collegeboard MC: [link to mc score](https://apclassroom.collegeboard.org/103/assessments/results/55303670/performance) <br><br>\n",
    "Q15: Both programs run a loop 10 times, printing out the index value of each iteration of hte loop each time, meaning both code blocks print out the values 1-10. A <br>\n",
    "Q16: Adding the index = index + 1 block between lines 7-8 is better beacuse it ensures that the loop's index updates every time the loop runs, not only when the if statement is satisfied. D<br>\n",
    "Q18: If we run D, the robot gets stuck in the first indent in hte black area, but if we used B instead, the robot will traverse the course correctly and end up at the goal. B<br>\n",
    "Q25: A central computer is not used in the internet to track and maintain connections on the internet. II and III are correct, in the internet, data is routed between points in multiple ways so that if a connection fails, the data can be rerouted around the inoperative connections, and protocols for packets and routing are used so that computers from different manufacturers can communicate in a standard way. C<br>\n",
    "Q30: the \"out of range\" line is not ever displayed, because the variable n is never less than 1, so the if statement is always satisfied. D<br>\n",
    "Q33: The vlaue of hte highest assignement score is findable using this set of data, but the change in course grade as a result of dropping the lowest score is not. A<br>\n",
    "Q56: Version 2 takes 9 minutes to run, whereas version 1 takes 4 minutes to run. This means that version 2 takes 5 more minutes than version 1 does. B<br>\n",
    "\n",
    "Overall, I think the types of questions I need to review the most are the questions where I have to determine what give code blocks do. I think I shold take more time next time in checking my work in order to make sure that I don't make silly mistakes again on these types of questions."
   ]
  }
 ],
 "metadata": {
  "language_info": {
   "name": "python"
  }
 },
 "nbformat": 4,
 "nbformat_minor": 2
}
