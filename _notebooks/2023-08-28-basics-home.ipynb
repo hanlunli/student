{
 "cells": [
  {
   "cell_type": "markdown",
   "metadata": {},
   "source": [
    "---\n",
    "layout: post\n",
    "title: Web Programming Basics\n",
    "# description: An introduction to key topics in Web Programming\n",
    "courses: { compsci: { week: 5 } }\n",
    "type: hacks\n",
    "permalink: /basics/home\n",
    "comments: true\n",
    "---"
   ]
  },
  {
   "cell_type": "raw",
   "metadata": {},
   "source": [
    "{% include nav_basics.html %}\n"
   ]
  },
  {
   "cell_type": "markdown",
   "metadata": {},
   "source": [
    "\n",
    "# A guide to basic concepts in Web Notebook\n",
    "- Making a menu\n",
    "- Review foundational topics (see menus HTML, JavaScript, DOM, CSS)\n",
    "- Guide to make your own custom page\n",
    "- Making page dynamic through JavaScript\n",
    "- Looking at Styles in GitHub Pages"
   ]
  },
  {
   "cell_type": "markdown",
   "metadata": {},
   "source": [
    "<h1>Review Ticket</h1>\n",
    " - JS Data types\n",
    " - Java Script Notepad (DOM)\n",
    " - Check Winner (JS)\n",
    " - Debugging\n",
    " - HTML (Word Guessing Game/Dark mode and light mode)"
   ]
  }
 ],
 "metadata": {
  "kernelspec": {
   "display_name": "Python 3",
   "language": "python",
   "name": "python3"
  },
  "language_info": {
   "name": "python",
   "version": "3.9.12"
  },
  "orig_nbformat": 4
 },
 "nbformat": 4,
 "nbformat_minor": 2
}
