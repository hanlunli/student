{
 "cells": [
  {
   "cell_type": "markdown",
   "metadata": {},
   "source": [
    "---\n",
    "layout: post\n",
    "title: Office Hours Question Teach\n",
    "toc: true\n",
    "comments: true\n",
    "---"
   ]
  },
  {
   "cell_type": "markdown",
   "metadata": {},
   "source": [
    "The diagram below shows a circuit composed of three logic gates. Each gate takes two inputs and produces a single output.\n",
    "<img id=\"border\" src = \"{{site.baseurl}}/images/q5.png\">\n",
    "For which of the following input values will the circuit have an output of true ?\n",
    "\n",
    "A) A = true,  B = true,  C = true,  D = false\n",
    "B) A = true,  B = false, C = false, D = true\n",
    "C) A = false, B = true,  C = true,  D = true\n",
    "D) A = false, B = false, C = true,  D = true\n",
    "\n",
    "A OR B = True, C AND D = True, and since True AND True = True, C is correct."
   ]
  }
 ],
 "metadata": {
  "language_info": {
   "name": "python"
  }
 },
 "nbformat": 4,
 "nbformat_minor": 2
}
