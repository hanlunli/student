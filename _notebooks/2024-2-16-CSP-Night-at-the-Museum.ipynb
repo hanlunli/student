{
 "cells": [
  {
   "cell_type": "markdown",
   "metadata": {},
   "source": [
    "---\n",
    "toc: true\n",
    "comments: true\n",
    "title: CSP Night at the Museum\n",
    "description: CSP Night at the Museum\n",
    "courses: { compsci: {week: 13} }\n",
    "type: tangibles\n",
    "permalink: /NightAtTheMuseum\n",
    "---"
   ]
  },
  {
   "cell_type": "markdown",
   "metadata": {},
   "source": [
    "## My Team\n",
    "During Night at the Museum, we explained the details of how our project, \"Let'em Cook\" works, including going into detail about how our frontend and backend interact, and an explanation of each of our key features. \n",
    "Grows: I think we could have worked on trying to find more people to talk to, instead of focusing on just a couple of people\n",
    "Glows: I think we did a pretty good job explaining the elements of our project in a digestible way, and we also got some good suggestions in order to enhance the user's experience on our website. \n",
    "\n",
    "One of these things that we are going to add is a text box next to our items, in order to make the user finding the proper ingredients easier. \n",
    " \n",
    "Images of my team below:\n",
    "![Our Team](https://files.catbox.moe/h4l2co.png)\n",
    "![interaction with other groups](https://files.catbox.moe/702dow.png)\n",
    "\n",
    "## Other Teams\n",
    "During Night at the Museum, I saw many very interesting projects, such as a \"dating app\" for companies\n",
    "![Investment Application](https://files.catbox.moe/9rm3xz.JPG)\n",
    "I found it interesting how they were able to have a very cool looking backend where they could edit user data\n",
    "\n",
    "Another Project that was very interesting to me was this medieval-looking game, which had frontend linked to backend, with the backend storing the real-time location of both the user and enemies.\n",
    "![Medieval Game](https://files.catbox.moe/2wisay.JPG)\n",
    "\n",
    "## Outside CSP\n",
    "I saw this cool 3d design image when I was walking around before our CSP presentation\n",
    "\n",
    "![3d](https://i.ibb.co/Cnrz9t3/funny-3d-design-image.png)\n"
   ]
  }
 ],
 "metadata": {
  "language_info": {
   "name": "python"
  }
 },
 "nbformat": 4,
 "nbformat_minor": 2
}
