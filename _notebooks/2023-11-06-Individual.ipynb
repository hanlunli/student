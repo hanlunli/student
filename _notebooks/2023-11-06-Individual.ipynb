{
 "cells": [
  {
   "cell_type": "markdown",
   "metadata": {},
   "source": [
    "---\n",
    "toc: false\n",
    "comments: true\n",
    "layout: post\n",
    "title: Individual Review\n",
    "type: tangibles\n",
    "---\n",
    "\n",
    "\n",
    "\n"
   ]
  },
  {
   "cell_type": "markdown",
   "metadata": {},
   "source": [
    "# Collegeboard Notes\n",
    "\n",
    "- Q14: The correct answer is C because they display the same number of outputs, but the outputs are different.\n",
    "- Q21: The correct answer is B, the robot should move forward 2 times, then turn left by 90 degrees, then move forward 3.\n",
    "- Q23: The correct answer is not A, since there are multiple paths from P to S and from R to Q. The correct answer is B because there is only 1 path to each point\n",
    "- Q40: The correct answer is D, since all 3 statements are correct\n",
    "- Q41: The correct answer is B, since the total score should take the maximum of the midterm and final, then add it to the final's grade\n",
    "- Q44: Anything above 15 will cause an error, so the second statement is the only one that will, so the correct answer is B\n",
    "- Q55: D is the correct answer, since the first if statement is never true, so it always returns false."
   ]
  },
  {
   "cell_type": "markdown",
   "metadata": {},
   "source": [
    "\n",
    "# Learning Reflection\n",
    "\n",
    "- I learned how flask works\n",
    "- I learned how AWS works\n",
    "- Basics of web development, the importance of backend/frontend, and the uses for each\n",
    "- Integrating backend and frontend using Flask & requests\n",
    "- Developing API\n",
    "- Collaboration\n",
    "- Agile Methodology\n",
    "- I hope to learn more about developing frontend\n",
    "- Try to come up with better ideas for future projects"
   ]
  },
  {
   "cell_type": "markdown",
   "metadata": {},
   "source": [
    "# Individual Code\n",
    "\n",
    "I made chat system using html, dom, flask, & python"
   ]
  },
  {
   "cell_type": "markdown",
   "metadata": {},
   "source": [
    "# Code for POST/GET requests for chat"
   ]
  },
  {
   "cell_type": "code",
   "execution_count": null,
   "metadata": {
    "vscode": {
     "languageId": "javascript"
    }
   },
   "outputs": [],
   "source": [
    "// Function to send a POST request to the backend to store the message\n",
    "function sendMessage() {\n",
    "    const message = document.getElementById(\"message\").value;\n",
    "    //const apiUrl = \"https://whispbackend.duckdns.org/messageDB\";\n",
    "    const apiUrl = \"http://127.0.0.1:5001/messageDB\"\n",
    "\n",
    "    // Create a data object to send in the POST request\n",
    "    const data = {\n",
    "        message: \"<p style=font-weight:bold;display:inline>\" + username + '</p> &nbsp' + '<p style=color:#808080;display:inline>'+getCurrentTime() + \"</p><br>\" + \"\" + '&nbsp -> &nbsp' + message\n",
    "    };\n",
    "    document.getElementById(\"message\").value = '';\n",
    "    // Perform the POST request to store the message\n",
    "    fetch(apiUrl, {\n",
    "        method: \"POST\",\n",
    "        headers: {\n",
    "            \"Content-Type\": \"application/json\"\n",
    "        },\n",
    "        body: JSON.stringify(data)\n",
    "    })\n",
    "    .then(response => {\n",
    "        if (!response.ok) {\n",
    "            throw new Error('Network response was not ok');\n",
    "        }\n",
    "        return response.json();\n",
    "    })\n",
    "    .then(data => {\n",
    "        // document.getElementById(\"response\").textContent = \"Response: \" + JSON.stringify(data.message);\n",
    "    })\n",
    "    .catch(error => {\n",
    "        document.getElementById(\"response\").textContent = \"Error: \" + error;\n",
    "    });\n",
    "}\n",
    "\n",
    "// Function to send a GET request to fetch the message\n",
    "// Function to send a GET request to fetch the message\n",
    "function getMessage() {\n",
    "    //const apiUrl = \"https://whispbackend.duckdns.org/messageDB\";\n",
    "    const apiUrl = \"http://127.0.0.1:5001/messageDB\"\n",
    "\n",
    "    // Perform a GET request to fetch the message\n",
    "    fetch(apiUrl, {\n",
    "        method: \"GET\",\n",
    "    })\n",
    "    .then(response => {\n",
    "        if (!response.ok) {\n",
    "            throw new Error('Network response was not ok');\n",
    "        }\n",
    "        return response.json();\n",
    "    })\n",
    "    .then(data => {\n",
    "        // document.getElementById(\"response\").value = data.message;\n",
    "        data = JSON.stringify(data);\n",
    "        data = JSON.parse(data);\n",
    "        var tempstring = \"\";\n",
    "        for (let i in data){\n",
    "            tempstring += data[i] + \"<br>\";\n",
    "        }\n",
    "        document.getElementById(\"response\").innerHTML = tempstring;\n",
    "    })\n",
    "    .catch(error => {\n",
    "        document.getElementById(\"response\").textContent = \"Error: \" + error;\n",
    "    });\n",
    "}"
   ]
  },
  {
   "cell_type": "markdown",
   "metadata": {},
   "source": [
    "# This is where the chatbox & messages are displayed"
   ]
  },
  {
   "cell_type": "code",
   "execution_count": null,
   "metadata": {
    "vscode": {
     "languageId": "html"
    }
   },
   "outputs": [],
   "source": [
    "<div class=\"content\">\n",
    "    <div id=\"chat-container\">\n",
    "        <p id=\"response\"></p>\n",
    "        <div id=\"messages\"></div>\n",
    "    </div>\n",
    "    <div id=\"input-container\">\n",
    "        <input name=\"text\" type=\"text\" id=\"message\" placeholder=\"Type your message...\" value=\"\">\n",
    "        <button id=\"send-button\">Send</button>\n",
    "    </div>\n",
    "    <button onclick=logout()> Logout </button>\n",
    "</div>"
   ]
  },
  {
   "cell_type": "markdown",
   "metadata": {},
   "source": [
    "# Python Flask code for the messageDB backend (including a clear function so that the messages don't get too clogged)"
   ]
  },
  {
   "cell_type": "code",
   "execution_count": null,
   "metadata": {},
   "outputs": [],
   "source": [
    "def init_db():\n",
    "    conn = sqlite3.connect('message.db')\n",
    "    cursor = conn.cursor()\n",
    "    cursor.execute('''\n",
    "        CREATE TABLE IF NOT EXISTS messages (\n",
    "            id INTEGER PRIMARY KEY AUTOINCREMENT,\n",
    "            message TEXT\n",
    "        )\n",
    "    ''')\n",
    "    conn.commit()\n",
    "    conn.close()\n",
    "\n",
    "# Initialize the database\n",
    "init_db()\n",
    "\n",
    "# Function to add a message to the database\n",
    "def add_message(message):\n",
    "    conn = sqlite3.connect('message.db')\n",
    "    cursor = conn.cursor()\n",
    "    cursor.execute('INSERT INTO messages (message) VALUES (?)', (message,))\n",
    "    conn.commit()\n",
    "    conn.close()\n",
    "\n",
    "# Function to get the latest message from the database\n",
    "def get_latest_message():\n",
    "    conn = sqlite3.connect('message.db')\n",
    "    cursor = conn.cursor()\n",
    "    cursor.execute('SELECT message FROM messages ORDER BY id DESC')\n",
    "    message = cursor.fetchall()\n",
    "    conn.close()\n",
    "    return message[0] if message else \"\"\n",
    "\n",
    "def clear_db():\n",
    "    # if request.method == 'POST':\n",
    "        # Provide a secret key or some form of authentication/authorization to prevent unauthorized access\n",
    "\n",
    "        # Clear the SQLite database\n",
    "    try:\n",
    "        conn = sqlite3.connect('message.db')\n",
    "        cursor = conn.cursor()\n",
    "        cursor.execute('DELETE FROM messages')\n",
    "        conn.commit()\n",
    "        conn.close()\n",
    "        return \"Database cleared successfully\", 200\n",
    "    except Exception as e:\n",
    "        return \"An error occurred while clearing the database\", 500\n",
    "\n",
    "@app.route('/clear_db', methods=['GET', 'POST'])\n",
    "def get_clear_db():\n",
    "    return clear_db()\n",
    "\n",
    "\n",
    "# Add an API endpoint to the Flask app\n",
    "@app.route('/messageDB', methods=[\"POST\", \"GET\"])\n",
    "def messageDB():\n",
    "    if request.method == 'POST':\n",
    "        try:\n",
    "            data = request.get_json()\n",
    "            if \"message\" in data:\n",
    "                message = data[\"message\"]\n",
    "                add_message(message)  # Store the message in the database\n",
    "\n",
    "                response_data = {\"message\": \"Message received and stored successfully\"}\n",
    "                return jsonify(response_data), 200\n",
    "            else:\n",
    "                return jsonify({\"error\": \"Invalid request format\"}), 400\n",
    "        except Exception as e:\n",
    "            return jsonify({\"error\": \"An error occurred during message processing\"}), 500\n",
    "\n",
    "    elif request.method == 'GET':\n",
    "        conn = sqlite3.connect('message.db')\n",
    "        cursor = conn.cursor()\n",
    "        cursor.execute('SELECT * FROM messages')\n",
    "        messages = cursor.fetchall()\n",
    "        conn.close()\n",
    "\n",
    "        # Convert the result to a list of dictionaries for easy JSON serialization\n",
    "        messages_list = {int(message[0]): message[1] for message in messages}\n",
    "\n",
    "        return jsonify(messages_list)"
   ]
  },
  {
   "cell_type": "markdown",
   "metadata": {},
   "source": [
    "# Key Github Commits\n",
    "- https://github.com/hanlunli/frontend/commit/3f8343d94d2a670376f2b6fd05666047f858cd65\n",
    "- https://github.com/hanlunli/backend/commit/93ded7f67c1a8dca3592b45d68d17a5f76252ab7\n",
    "- https://github.com/hanlunli/backend/commit/0457954ada1b85799332fedc8e99e790d48a062f\n",
    "- https://github.com/hanlunli/backend/commit/fa03d9191cd6ff955aa5fb97002f318399bcf1d1"
   ]
  }
 ],
 "metadata": {
  "language_info": {
   "name": "python"
  }
 },
 "nbformat": 4,
 "nbformat_minor": 2
}
