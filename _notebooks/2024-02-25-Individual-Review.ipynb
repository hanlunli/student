{
 "cells": [
  {
   "cell_type": "markdown",
   "metadata": {},
   "source": [
    "---\n",
    "layout: post\n",
    "title: Individual Review\n",
    "toc: true\n",
    "comments: true\n",
    "---"
   ]
  },
  {
   "cell_type": "markdown",
   "metadata": {},
   "source": [
    "# Our Project:\n",
    "Our project is a web-based game that resembles Little Alchemy, a game where you drag icons and combine them to make new elements. Our project puts a spin on this, instead of making new elements, we make baked goods\n",
    "\n",
    "# Feature:\n",
    "My feature is the acutal baking functionality, where when a button is pressed, the ingredients the user has picked is compared to the available recipies on the backend to see what baked good was made.\n",
    "\n",
    "# CPT\n",
    "Collegeboard Requirements:\n",
    "- Input from the user, a device, an online datas stream, a file: When the user presses the \"Bake\" button on the frontend, the user is redirected to a new webpage called \"baking success\", in which there is logic in order to see what recipie the user has made\n",
    "![bakebutton](https://i.ibb.co/sqMLs1Y/bakebutton.png)\n",
    "<br>\n",
    "- Use of at least one list (or other collection type) to represent a collection of data that is stored and used to manage program complexity and help fulfill the program’s purpose: Part of the data stored in the backend is a sorted list of ingredients that coreesponds with a recipie. \n",
    "![listofrecipie](https://i.ibb.co/Pmm5nKP/bakinglist.png) \n",
    "<br>\n",
    "- At least one procedure that contributes to the program’s intended purpose, where you have defined: Success function on the baking success page updates points value for the logged in user.\n",
    "<br>\n",
    "\n",
    "![successfunction](https://i.ibb.co/Ks7bkGx/success.png)\n",
    "<br>\n",
    "- An algorithm that includes sequencing, selection, and iteration that is in the body of the selected procedure: UID of the logged in user is stored in local storage, and then using a get request to the backend, we iterate through it until we find the points that correlates with the UID of the user that is logged in. Later on in the code, we use this points value in order to make a put request to that user's points value. The goal of this is to allow the user to gain points when the baking recipie is successful.\n",
    "\n",
    "<br>\n",
    "\n",
    "![for loop](https://i.ibb.co/MBN4bJs/for-loop.png)\n",
    "<br>\n",
    "\n",
    "- Calls to your student-developed prodcedure: calling the success function\n",
    "<br>\n",
    "\n",
    "![call for success](https://i.ibb.co/9Vvt2D7/callingfunction.png)\n",
    "<br>\n",
    "- Output (tactile, audible, visual) based on input: if recipie is successful, it uses the name of the recipie, and gets the image for the baked good from under an images directory.\n",
    "<br>\n",
    "\n",
    "![visual outpuut](https://i.ibb.co/jL1nMtz/visual-output.png)\n",
    "<br>\n",
    "![images](https://i.ibb.co/0V0jjX5/images-for-recipies.png)\n",
    "<br>\n",
    "\n",
    "\n",
    "# Video\n",
    "- input to program: the user pressing bake button\n",
    "- At least one aspect of the functionality of your program: redirects to success page, with animation/image\n",
    "- No more than 1 minute in length\n",
    "- No more than 30MB in file size\n",
    "\n",
    "[link](https://youtu.be/s3bum0NzWQs)"
   ]
  }
 ],
 "metadata": {
  "language_info": {
   "name": "python"
  }
 },
 "nbformat": 4,
 "nbformat_minor": 2
}
