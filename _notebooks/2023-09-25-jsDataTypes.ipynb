{
 "cells": [
  {
   "cell_type": "markdown",
   "metadata": {},
   "source": [
    "---\n",
    "# toc: true\n",
    "comments: false\n",
    "layout: default\n",
    "title: Data Types\n",
    "type: hacks \n",
    "courses: { compsci: {week: 6} }\n",
    "---"
   ]
  },
  {
   "cell_type": "code",
   "execution_count": 4,
   "metadata": {},
   "outputs": [
    {
     "data": {
      "text/html": [
       "<script>\n",
       "    var person_one = {\n",
       "        name: \"Yeongsu Kim\",\n",
       "        age: 15,\n",
       "        classes: {1: \"Honors Humanities\", 2: \"AP Chemistry\", 3: \"AP Calculus AB\", 4: \"AP World History\", 5: \"AP Computer Science Principles\"},\n",
       "        interests: [\"Music\", \"Video Games\", \"Candy\", \"Basketball\"],\n",
       "        favorite_songs: [\"Brahms Violin Concerto\", \"Tchaikovsky Violin Concerto\", \"Tchaikovsky Symphony no.5\"],\n",
       "        id_num:\"1951443\",\n",
       "        num_points:0,\n",
       "        num_shots:0,\n",
       "    }\n",
       "    console.log(person_one);\n",
       "    \n",
       "    person_one[\"birthday\"] = \"July 23, 2008\";\n",
       "    person_one.interests.push(\"Computer Programming\");\n",
       "    person_one.favorite_songs.push(\"Organ Symphony\");\n",
       "    console.log(person_one);\n",
       "    \n",
       "    var num_classes = 0;\n",
       "    for(let i =0; i < Object.keys(person_one.classes).length; i++) {\n",
       "        num_classes+=1;\n",
       "    }\n",
       "    console.log(\"Number of Classes this Trimester: \" + num_classes);\n",
       "    \n",
       "    console.log(typeof person_one);\n",
       "    console.log(typeof person_one.name);\n",
       "    console.log(typeof person_one.age);\n",
       "    console.log(typeof person_one.interests);\n",
       "</script>\n"
      ],
      "text/plain": [
       "<IPython.core.display.HTML object>"
      ]
     },
     "metadata": {},
     "output_type": "display_data"
    }
   ],
   "source": [
    "%%html\n",
    "<script>\n",
    "    var person_one = {\n",
    "        name: \"Yeongsu Kim\",\n",
    "        age: 15,\n",
    "        classes: {1: \"Honors Humanities\", 2: \"AP Chemistry\", 3: \"AP Calculus AB\", 4: \"AP World History\", 5: \"AP Computer Science Principles\"},\n",
    "        interests: [\"Music\", \"Video Games\", \"Candy\", \"Basketball\"],\n",
    "        favorite_songs: [\"Brahms Violin Concerto\", \"Tchaikovsky Violin Concerto\", \"Tchaikovsky Symphony no.5\"],\n",
    "        id_num:\"1951443\",\n",
    "        password:\"YeongsuK\",\n",
    "        num_wins:0,\n",
    "    }\n",
    "    console.log(person_one);\n",
    "    \n",
    "    person_one[\"birthday\"] = \"July 23, 2008\";\n",
    "    person_one.interests.push(\"Computer Programming\");\n",
    "    person_one.favorite_songs.push(\"Organ Symphony\");\n",
    "    console.log(person_one);\n",
    "    \n",
    "    var num_classes = 0;\n",
    "    for(let i =0; i < Object.keys(person_one.classes).length; i++) {\n",
    "        num_classes+=1;\n",
    "    }\n",
    "    console.log(\"Number of Classes this Trimester: \" + num_classes);\n",
    "    \n",
    "    console.log(typeof person_one);\n",
    "    console.log(typeof person_one.name);\n",
    "    console.log(typeof person_one.age);\n",
    "    console.log(typeof person_one.interests);\n",
    "</script>\n"
   ]
  }
 ],
 "metadata": {
  "kernelspec": {
   "display_name": "Python 3",
   "language": "python",
   "name": "python3"
  },
  "language_info": {
   "codemirror_mode": {
    "name": "ipython",
    "version": 3
   },
   "file_extension": ".py",
   "mimetype": "text/x-python",
   "name": "python",
   "nbconvert_exporter": "python",
   "pygments_lexer": "ipython3",
   "version": "3.10.12"
  },
  "orig_nbformat": 4
 },
 "nbformat": 4,
 "nbformat_minor": 2
}
