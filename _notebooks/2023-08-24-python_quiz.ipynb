{
 "cells": [
  {
   "cell_type": "markdown",
   "metadata": {},
   "source": [
    "---\n",
    "comments: true\n",
    "layout: post\n",
    "title: Python Quiz\n",
    "description: this is a quiz in python that I \"made\"\n",
    "type: hacks\n",
    "permalink: /frontend/python_quiz\n",
    "courses: { csse: {week: 0}, csp: {week: 0}, csa: {week: 0} }\n",
    "categories: [C4.1]\n",
    "---\n",
    "## Python Quiz\n",
    "\n",
    "Welcome to the Python quiz! You will be asked a series of questions to test your knowledge of Python programming. Let's get started!\n"
   ]
  },
  {
   "cell_type": "code",
   "execution_count": 1,
   "metadata": {
    "scrolled": true
   },
   "outputs": [
    {
     "name": "stdout",
     "output_type": "stream",
     "text": [
      "Hello, hanlunli running /usr/bin/python3\n",
      "You will be asked 4 questions.\n",
      "Question: Are you ready to take a test?\n",
      "yes\n",
      "Question: What command is used to include other functions that were previously developed?\n",
      "import\n",
      "import is correct!\n",
      "Question: What command is used to evaluate correct or incorrect response in this example?\n",
      "if\n",
      "if is correct!\n",
      "Question: Each 'if' command contains an '_________' to determine a true or false condition?\n",
      "no\n",
      "no is incorrect!\n",
      "Question: What tag in html allows you to put images on your website\n",
      "<img>\n",
      "<img> is correct!\n",
      "hanlunli you scored 75.0% of the questions correct\n"
     ]
    }
   ],
   "source": [
    "import getpass, sys\n",
    "\n",
    "def question_with_response(prompt):\n",
    "    print(\"Question: \" + prompt)\n",
    "    msg = input()\n",
    "    return msg\n",
    "\n",
    "correct = 0\n",
    "questions = [[\"What command is used to include other functions that were previously developed?\",\"import\"],[\"What command is used to evaluate correct or incorrect response in this example?\",\"if\"],[\"Each 'if' command contains an '_________' to determine a true or false condition?\",\"expression\"],\n",
    "             [\"What tag in html allows you to put images on your website\", \"<img>\"]]\n",
    "print('Hello, ' + getpass.getuser() + \" running \" + sys.executable)\n",
    "print(\"You will be asked \" + str(len(questions)) + \" questions.\")\n",
    "question_with_response(\"Are you ready to take a test?\")\n",
    "\n",
    "\n",
    "for i in questions:\n",
    "    rsp = question_with_response(i[0])\n",
    "    if rsp == i[1]:\n",
    "        print(rsp + \" is correct!\")\n",
    "        correct+=1\n",
    "    else:\n",
    "        print(rsp + \" is incorrect!\")\n",
    "\n",
    "\n",
    "print(getpass.getuser() + \" you scored \" + str((correct/len(questions) * 100)//1) + '% of the questions correct' )"
   ]
  }
 ],
 "metadata": {
  "kernelspec": {
   "display_name": "Python 3 (ipykernel)",
   "language": "python",
   "name": "python3"
  },
  "language_info": {
   "codemirror_mode": {
    "name": "ipython",
    "version": 3
   },
   "file_extension": ".py",
   "mimetype": "text/x-python",
   "name": "python",
   "nbconvert_exporter": "python",
   "pygments_lexer": "ipython3",
   "version": "3.10.12"
  }
 },
 "nbformat": 4,
 "nbformat_minor": 2
}
