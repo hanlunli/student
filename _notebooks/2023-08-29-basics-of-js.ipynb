{
 "cells": [
  {
   "cell_type": "markdown",
   "metadata": {},
   "source": [
    "---\n",
    "title: Basics of Javascript\n",
    "hide: True\n",
    "# description: A Tech Talk on how to use javascript\n",
    "type: ccc\n",
    "permalink: /basics/javascript\n",
    "author: Rohan Juneja\n",
    "comments: true\n",
    "---"
   ]
  },
  {
   "cell_type": "raw",
   "metadata": {},
   "source": [
    "{% include nav_basics.html %}\n"
   ]
  },
  {
   "cell_type": "markdown",
   "metadata": {},
   "source": [
    "<html>\n",
    "    <head>\n",
    "    </head>\n",
    "    <body>\n",
    "        <script>\n",
    "            function checkscores(playerOne, playerTwo) {\n",
    "                if(playerOne > playerTwo)\n",
    "                {\n",
    "                    console.log(\"Player One Wins!\");\n",
    "                }\n",
    "                else if(playerOne < playerTwo)\n",
    "                {\n",
    "                    console.log(\"Player TWo Wins!);\n",
    "                }\n",
    "                else {\n",
    "                    console.log(\"It's a Tie!\");\n",
    "                }\n",
    "            }\n",
    "            console.log(checkscores(5,2))\n",
    "        </script>\n",
    "    </body>\n",
    "</html>"
   ]
  },
  {
   "cell_type": "code",
   "execution_count": 4,
   "metadata": {},
   "outputs": [
    {
     "data": {
      "text/html": [
       "<script>\n",
       "    function checkscores(playerOne, playerTwo) {\n",
       "        if(playerOne > playerTwo)\n",
       "        {\n",
       "            console.log(\"Player One Wins!\");\n",
       "        }\n",
       "        else if(playerOne < playerTwo)\n",
       "        {\n",
       "            console.log(\"Player Two Wins!\");\n",
       "        }\n",
       "        else {\n",
       "            console.log(\"It's a Tie!\");\n",
       "        }\n",
       "    }\n",
       "    console.log(checkscores(5,2));\n",
       "</script>\n"
      ],
      "text/plain": [
       "<IPython.core.display.HTML object>"
      ]
     },
     "metadata": {},
     "output_type": "display_data"
    }
   ],
   "source": [
    "%%html\n",
    "<script>\n",
    "    function checkscores(playerOne, playerTwo) {\n",
    "        if(playerOne > playerTwo)\n",
    "        {\n",
    "            console.log(\"Player One Wins!\");\n",
    "        }\n",
    "        else if(playerOne < playerTwo)\n",
    "        {\n",
    "            console.log(\"Player Two Wins!\");\n",
    "        }\n",
    "        else {\n",
    "            console.log(\"It's a Tie!\");\n",
    "        }\n",
    "    }\n",
    "    console.log(checkscores(5,2));\n",
    "</script>"
   ]
  }
 ],
 "metadata": {
  "kernelspec": {
   "display_name": "Python 3",
   "language": "python",
   "name": "python3"
  },
  "language_info": {
   "codemirror_mode": {
    "name": "ipython",
    "version": 3
   },
   "file_extension": ".py",
   "mimetype": "text/x-python",
   "name": "python",
   "nbconvert_exporter": "python",
   "pygments_lexer": "ipython3",
   "version": "3.10.12"
  },
  "orig_nbformat": 4
 },
 "nbformat": 4,
 "nbformat_minor": 2
}
