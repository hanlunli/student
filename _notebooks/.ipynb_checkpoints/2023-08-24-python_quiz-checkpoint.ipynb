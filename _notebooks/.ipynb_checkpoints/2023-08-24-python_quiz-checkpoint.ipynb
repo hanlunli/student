{
 "cells": [
  {
   "cell_type": "markdown",
   "metadata": {},
   "source": [
    "---\n",
    "comments: true\n",
    "layout: post\n",
    "title: Python Quiz\n",
    "description: this is a quiz in python that I \"made\"\n",
    "type: hacks\n",
    "permalink: /frontend/python_quiz\n",
    "courses: { csse: {week: 0}, csp: {week: 0}, csa: {week: 0} }\n",
    "categories: [C4.1]\n",
    "---\n",
    "## Python Quiz\n",
    "\n",
    "Welcome to the Python quiz! You will be asked a series of questions to test your knowledge of Python programming. Let's get started!\n"
   ]
  },
  {
   "cell_type": "code",
   "execution_count": 1,
   "metadata": {
    "vscode": {
     "languageId": "html"
    }
   },
   "outputs": [
    {
     "data": {
      "text/html": [
       "<style> body { background-color: #121212; color: #7e92d6; } \n",
       "  p{font-family: sans-serif;}\n",
       "  hr{background-color: #7e92d6;}\n",
       "  .color{color:#7e92d6;}\n",
       "  body {\n",
       "    padding: 25px;\n",
       "    background-color: #282b30;\n",
       "    color: #7e92d6;\n",
       "    font-size: 16px;\n",
       "    transition-duration: 0.2s;\n",
       "  }\n",
       "  hr{background-color: #7e92d6;}\n",
       "  .board {\n",
       "      display: grid;\n",
       "      grid-template-columns: repeat(3, 100px);\n",
       "      grid-gap: 2px;\n",
       "    }\n",
       "    .cell {\n",
       "      width: 100px;\n",
       "      height: 100px;\n",
       "      border: 1px solid #7e92d6;\n",
       "      display: flex;\n",
       "      align-items: center;\n",
       "      justify-content: center;\n",
       "      font-size: 24px;\n",
       "      cursor: pointer;\n",
       "    }\n",
       "</style>\n"
      ],
      "text/plain": [
       "<IPython.core.display.HTML object>"
      ]
     },
     "metadata": {},
     "output_type": "display_data"
    }
   ],
   "source": [
    "%%html\n",
    "<style> body { background-color: #121212; color: #7e92d6; } \n",
    "  p{font-family: sans-serif;}\n",
    "  hr{background-color: #7e92d6;}\n",
    "  .color{color:#7e92d6;}\n",
    "  body {\n",
    "    padding: 25px;\n",
    "    background-color: #282b30;\n",
    "    color: #7e92d6;\n",
    "    font-size: 16px;\n",
    "    transition-duration: 0.2s;\n",
    "  }\n",
    "  hr{background-color: #7e92d6;}\n",
    "  .board {\n",
    "      display: grid;\n",
    "      grid-template-columns: repeat(3, 100px);\n",
    "      grid-gap: 2px;\n",
    "    }\n",
    "    .cell {\n",
    "      width: 100px;\n",
    "      height: 100px;\n",
    "      border: 1px solid #7e92d6;\n",
    "      display: flex;\n",
    "      align-items: center;\n",
    "      justify-content: center;\n",
    "      font-size: 24px;\n",
    "      cursor: pointer;\n",
    "    }\n",
    "</style>"
   ]
  },
  {
   "cell_type": "code",
   "execution_count": 1,
   "metadata": {
    "scrolled": true
   },
   "outputs": [
    {
     "name": "stdout",
     "output_type": "stream",
     "text": [
      "Hello, hanlunli running /usr/bin/python3\n",
      "You will be asked 3 questions.\n",
      "Question: Are you ready to take a test?\n",
      "import\n",
      "Question: What command is used to include other functions that were previously developed?\n",
      "else\n",
      "else is incorrect!\n",
      "Question: What command is used to evaluate correct or incorrect response in this example?\n",
      "expression\n",
      "expression is incorrect!\n",
      "Question: Each 'if' command contains an '_________' to determine a true or false condition?\n",
      "expression\n",
      "expression is correct!\n",
      "hanlunli you scored 33.0% of the questions correct\n"
     ]
    }
   ],
   "source": [
    "import getpass, sys\n",
    "\n",
    "def question_with_response(prompt):\n",
    "    print(\"Question: \" + prompt)\n",
    "    msg = input()\n",
    "    return msg\n",
    "\n",
    "questions = 3\n",
    "correct = 0\n",
    "\n",
    "print('Hello, ' + getpass.getuser() + \" running \" + sys.executable)\n",
    "print(\"You will be asked \" + str(questions) + \" questions.\")\n",
    "question_with_response(\"Are you ready to take a test?\")\n",
    "\n",
    "rsp = question_with_response(\"What command is used to include other functions that were previously developed?\")\n",
    "if rsp == \"import\":\n",
    "    print(rsp + \" is correct!\")\n",
    "    correct += 1\n",
    "else:\n",
    "    print(rsp + \" is incorrect!\")\n",
    "\n",
    "rsp = question_with_response(\"What command is used to evaluate correct or incorrect response in this example?\")\n",
    "if rsp == \"if\":\n",
    "    print(rsp + \" is correct!\")\n",
    "    correct += 1\n",
    "else:\n",
    "    print(rsp + \" is incorrect!\")\n",
    "\n",
    "rsp = question_with_response(\"Each 'if' command contains an '_________' to determine a true or false condition?\")\n",
    "if rsp == \"expression\":\n",
    "    print(rsp + \" is correct!\")\n",
    "    correct += 1\n",
    "else:\n",
    "    print(rsp + \" is incorrect!\")\n",
    "\n",
    "print(getpass.getuser() + \" you scored \" + str((correct/questions * 100)//1) + '% of the questions correct' )"
   ]
  },
  {
   "cell_type": "markdown",
   "metadata": {},
   "source": [
    "hello :D"
   ]
  },
  {
   "cell_type": "code",
   "execution_count": null,
   "metadata": {},
   "outputs": [],
   "source": []
  },
  {
   "cell_type": "code",
   "execution_count": null,
   "metadata": {},
   "outputs": [],
   "source": []
  }
 ],
 "metadata": {
  "kernelspec": {
   "display_name": "Python 3 (ipykernel)",
   "language": "python",
   "name": "python3"
  },
  "language_info": {
   "codemirror_mode": {
    "name": "ipython",
    "version": 3
   },
   "file_extension": ".py",
   "mimetype": "text/x-python",
   "name": "python",
   "nbconvert_exporter": "python",
   "pygments_lexer": "ipython3",
   "version": "3.10.12"
  }
 },
 "nbformat": 4,
 "nbformat_minor": 2
}
